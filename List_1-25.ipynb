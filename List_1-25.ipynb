{
  "nbformat": 4,
  "nbformat_minor": 0,
  "metadata": {
    "colab": {
      "provenance": []
    },
    "kernelspec": {
      "name": "python3",
      "display_name": "Python 3"
    },
    "language_info": {
      "name": "python"
    }
  },
  "cells": [
    {
      "cell_type": "code",
      "execution_count": 1,
      "metadata": {
        "colab": {
          "base_uri": "https://localhost:8080/"
        },
        "id": "2diB4j8oSIqJ",
        "outputId": "beb8aaf4-e291-4388-c6c0-48699fe8d28a"
      },
      "outputs": [
        {
          "output_type": "stream",
          "name": "stdout",
          "text": [
            "26\n",
            "Sum all the items = 26\n"
          ]
        }
      ],
      "source": [
        "'''\n",
        "1. Write a Python program to sum all the items\n",
        "\n",
        "Sample Output\n",
        "\n",
        "[1,7,-10,34,2,-8]\n",
        "\n",
        "Sum all the items = 26\n",
        "'''\n",
        "#Method 1\n",
        "input = [1,7,-10,34,2,-8]\n",
        "sum = 0\n",
        "for i in input:  # In the loop for i in a:, i is called the loop variable or iterator variable.\n",
        "                # It iteratively takes on the value of each element in the list a (or whatever collection a represents) as the loop progresses through each iteration.\n",
        "  sum += i\n",
        "print(sum)\n",
        "\n",
        "#Method 2\n",
        "input = [1,7,-10,34,2,-8]\n",
        "sum = 0\n",
        "for elements in range(0, len(input)):\n",
        "  sum = sum + input [elements]\n",
        "print (\"Sum all the items =\", sum)"
      ]
    },
    {
      "cell_type": "code",
      "source": [
        "'''\n",
        "2. Write a Python program to multiply all the items in a list\n",
        "\n",
        "Sample Output\n",
        "\n",
        "[3,4,5,4,7]\n",
        "\n",
        "Multiply all the items in a list : 1680\n",
        "'''\n",
        "# Method 1\n",
        "input = [3,4,5,4,7]\n",
        "product = 1\n",
        "for i in input:\n",
        "  product *= i\n",
        "print(product)\n",
        "\n",
        "# Method 2\n",
        "input = [3,4,5,4,7]\n",
        "product = 1\n",
        "for elements in range(0, len(input)):\n",
        "  product = product * input[elements]\n",
        "print (\"product of all the items =\", product)"
      ],
      "metadata": {
        "colab": {
          "base_uri": "https://localhost:8080/"
        },
        "id": "D19N2styVdg3",
        "outputId": "e079ff44-abce-4fe4-c49e-0bf8d23aae42"
      },
      "execution_count": 2,
      "outputs": [
        {
          "output_type": "stream",
          "name": "stdout",
          "text": [
            "1680\n",
            "product of all the items = 1680\n"
          ]
        }
      ]
    },
    {
      "cell_type": "code",
      "source": [
        "'''\n",
        "3. Write a Python program to get the largest number from a list\n",
        "\n",
        "Sample Output\n",
        "\n",
        "[1,7,10,34,2,8]\n",
        "\n",
        "Largest Number : 34\n",
        "'''\n",
        "# Method 1\n",
        "input = [1,7,10,34,2,8]\n",
        "input.sort()\n",
        "print (input)\n",
        "print (\"The largest number =\", input[-1])\n",
        "\n",
        "# Method 2\n",
        "input = [51,7,10,34,2,8,112]\n",
        "largest = max (input)\n",
        "print (largest)\n",
        "\n",
        "# Method 3\n",
        "a = [1,7,10,34,2,8]\n",
        "max = a[0]\n",
        "for i in a:\n",
        "  if i > max:\n",
        "    max = i\n",
        "print(max)\n"
      ],
      "metadata": {
        "colab": {
          "base_uri": "https://localhost:8080/"
        },
        "id": "w00-U4SQ3q_5",
        "outputId": "8d453aee-82f3-4b20-d4d1-3efcb4dc5762"
      },
      "execution_count": 3,
      "outputs": [
        {
          "output_type": "stream",
          "name": "stdout",
          "text": [
            "[1, 2, 7, 8, 10, 34]\n",
            "The largest number = 34\n",
            "112\n",
            "34\n"
          ]
        }
      ]
    },
    {
      "cell_type": "code",
      "source": [
        "'''\n",
        "4. Write a Python program to get the smallest number from a list\n",
        "\n",
        "Sample Output\n",
        "\n",
        "[51,7,10,34,2,8]\n",
        "\n",
        "Smallest Number : 2\n",
        "'''\n",
        "# Method 1\n",
        "input = [51,7,10,34,2,8]\n",
        "input.sort()\n",
        "print (input)\n",
        "print (\"The smallest number =\", input[0])\n",
        "\n",
        "# Method 2\n",
        "input = [51,7,10,34,2,8]\n",
        "smallest = min (input)\n",
        "print (smallest)\n",
        "\n",
        "# Method 3\n",
        "a = [1,7,10,34,2,8]\n",
        "min = a[0]\n",
        "for i in a:\n",
        "  if i < min:\n",
        "    min = i\n",
        "print(min)\n"
      ],
      "metadata": {
        "colab": {
          "base_uri": "https://localhost:8080/"
        },
        "id": "EpiTJXxj5ouh",
        "outputId": "62dbda75-ccb8-4eb5-9a4f-df296fea6ab0"
      },
      "execution_count": 4,
      "outputs": [
        {
          "output_type": "stream",
          "name": "stdout",
          "text": [
            "[2, 7, 8, 10, 34, 51]\n",
            "The smallest number = 2\n",
            "2\n",
            "1\n"
          ]
        }
      ]
    },
    {
      "cell_type": "code",
      "source": [
        "'''\n",
        "5. Write a Python program to count the number of strings where the string length is 2 or more and the first and last character are same from a given list of\n",
        "   strings.\n",
        "\n",
        "Sample Output\n",
        "\n",
        "['abc', 'xyz', 'aba', '1221']\n",
        "\n",
        "First and Last Character are same : 2\n",
        "'''\n",
        "a = ['abc', 'xyz', 'aba', '1221']\n",
        "count =0\n",
        "for i in a:\n",
        "  if (len(i) > 1 and i[0] == i[-1]):\n",
        "    count += 1\n",
        "print(count)"
      ],
      "metadata": {
        "colab": {
          "base_uri": "https://localhost:8080/"
        },
        "id": "uUr2VT2PD-HV",
        "outputId": "c9cca00a-2301-44e0-e725-724a938fd2c9"
      },
      "execution_count": 5,
      "outputs": [
        {
          "output_type": "stream",
          "name": "stdout",
          "text": [
            "2\n"
          ]
        }
      ]
    },
    {
      "cell_type": "code",
      "source": [
        "count"
      ],
      "metadata": {
        "colab": {
          "base_uri": "https://localhost:8080/"
        },
        "id": "BTDC67eE5txC",
        "outputId": "96be0998-b4c5-4a2c-e273-bf80f91d1190"
      },
      "execution_count": 6,
      "outputs": [
        {
          "output_type": "execute_result",
          "data": {
            "text/plain": [
              "2"
            ]
          },
          "metadata": {},
          "execution_count": 6
        }
      ]
    },
    {
      "cell_type": "code",
      "source": [
        "'''\n",
        "6. Write a Python program to remove duplicates from a list\n",
        "\n",
        "Sample Output\n",
        "\n",
        "[1,2,3,7,2,1,5,6,4,8,5,4]\n",
        "\n",
        "{1,2,3,4,5,6,7,8}\n",
        "'''\n",
        "#Method 1\n",
        "input = [1,2,3,7,2,1,5,6,4,8,5,4]\n",
        "output = set(input)\n",
        "print (output)\n",
        "\n"
      ],
      "metadata": {
        "colab": {
          "base_uri": "https://localhost:8080/"
        },
        "id": "ookUy6_JE9Yp",
        "outputId": "caea39d3-9c84-4e5f-a111-189b5c2f7e6a"
      },
      "execution_count": 7,
      "outputs": [
        {
          "output_type": "stream",
          "name": "stdout",
          "text": [
            "{1, 2, 3, 4, 5, 6, 7, 8}\n"
          ]
        }
      ]
    },
    {
      "cell_type": "code",
      "source": [
        "'''\n",
        "7. Write a Python program to check a list is empty or not\n",
        "\n",
        "Sample Output\n",
        "\n",
        "[34,45,6,5,4,56,7]\n",
        "'''\n",
        "#Method 1:\n",
        "a = [34,45,6,5,4,56,7]\n",
        "if len(elements) > 0:\n",
        "  print (\"List is not empty\")\n",
        "else:\n",
        "  print (\"List is empty\")\n",
        "\n",
        "\n",
        "#Method 2:\n",
        "a = [34,45,6,5,4,56,7]\n",
        "if not a:\n",
        "  print (\"List is Empty\")\n",
        "else:\n",
        "  print (\"List is not Empty\")\n",
        "\n",
        "#Method 3:\n",
        "a = [34,45,6,5,4,56,7]\n",
        "if not len(a):\n",
        "  print (\"List is Empty\")\n",
        "else:\n",
        "  print (\"List is not Empty\")\n",
        "\n",
        "#Method 4:\n",
        "a = [34,45,6,5,4,56,7]\n",
        "if a == []:\n",
        "  print (\"List is Empty\")\n",
        "else:\n",
        "   print (\"List is not Empty\")"
      ],
      "metadata": {
        "colab": {
          "base_uri": "https://localhost:8080/"
        },
        "id": "x4adaoYTFtLl",
        "outputId": "f8961b20-341b-423b-d2fc-32c7cbb70040"
      },
      "execution_count": 8,
      "outputs": [
        {
          "output_type": "stream",
          "name": "stdout",
          "text": [
            "List is not empty\n",
            "List is not empty\n",
            "List is not empty\n",
            "List is not empty\n",
            "List is not empty\n",
            "List is not empty\n",
            "List is not empty\n",
            "List is not Empty\n",
            "List is not Empty\n",
            "List is not Empty\n"
          ]
        }
      ]
    },
    {
      "cell_type": "code",
      "source": [
        "'''\n",
        "8. Write a Python program to clone or copy a list\n",
        "\n",
        "Sample Output\n",
        "\n",
        "[10, 22, 44, 23, 4,22]\n",
        "\n",
        "Clone or Copy a List : [10, 22, 44, 23, 4,22]\n",
        "'''\n",
        "\n",
        "\n",
        "#Method 1\n",
        "Original_2 = [10, 22, 44, 23, 4, 22]\n",
        "print (\"Original_2 = \", Original_2)\n",
        "Copy_2 = Original_2.copy()\n",
        "print (\"Copy_2 = \", Copy_2)\n",
        "\n",
        "#Method 2\n",
        "# Original list\n",
        "x = [10, 22, 44, 23, 4]\n",
        "\n",
        "# Use slicing to clone or copy the list\n",
        "y = x[:]\n",
        "\n",
        "# Print the copied list\n",
        "print(y)\n",
        "\n",
        "# Slicing in Python is like picking a position o section from the ."
      ],
      "metadata": {
        "colab": {
          "base_uri": "https://localhost:8080/"
        },
        "id": "k9LUk36bXH5C",
        "outputId": "220570a3-6082-41cf-e26d-656e9aa2c24e"
      },
      "execution_count": 9,
      "outputs": [
        {
          "output_type": "stream",
          "name": "stdout",
          "text": [
            "Original_1 =  [10, 22, 44, 23, 4, 22]\n",
            "Copy_1 =  [10, 22, 44, 23, 4, 22]\n",
            "Original_2 =  [10, 22, 44, 23, 4, 22]\n",
            "Copy_2 =  [10, 22, 44, 23, 4, 22]\n",
            "[10, 22, 44, 23, 4]\n"
          ]
        }
      ]
    },
    {
      "cell_type": "code",
      "source": [
        "'''\n",
        "9. Write a Python program to find the list of words that are longer than n from a given list of words\n",
        "\n",
        "Sample Output\n",
        "\n",
        "Find the List of Words that are Longer than n from a given List of Words\n",
        "\n",
        "Given value of n = 4\n",
        "\n",
        "['Words', 'Longer', 'given', 'Words']\n",
        "'''\n",
        "x = \"Find the List of Words that are Longer than n from a given List of Words\"\n",
        "n = 4\n",
        "new = []\n",
        "y = x.split(\" \")\n",
        "print (y)\n",
        "for i in y:\n",
        "  if len(i) > n:\n",
        "    new.append(i)\n",
        "print (new)\n"
      ],
      "metadata": {
        "colab": {
          "base_uri": "https://localhost:8080/"
        },
        "id": "Sg-z9LSVaDrV",
        "outputId": "ed4662d6-1334-4d6c-bae4-c13295e14d94"
      },
      "execution_count": 10,
      "outputs": [
        {
          "output_type": "stream",
          "name": "stdout",
          "text": [
            "['Find', 'the', 'List', 'of', 'Words', 'that', 'are', 'Longer', 'than', 'n', 'from', 'a', 'given', 'List', 'of', 'Words']\n",
            "['Words', 'Longer', 'given', 'Words']\n"
          ]
        }
      ]
    },
    {
      "cell_type": "code",
      "source": [
        "'''\n",
        "10. Write a Program that get two lists as input and check if they have at least one common member\n",
        "\n",
        "Sample Output\n",
        "\n",
        "[1,2,3,4,5]\n",
        "\n",
        "[5,6,7,8,9]\n",
        "\n",
        "Lists have at least one common member\n",
        "'''\n",
        "a = [1,2,3,4,5]\n",
        "b = [5,6,7,8,9]\n",
        "for i in a:\n",
        "   for j in b:\n",
        "     if(i==j):\n",
        "        print(True)\n",
        "\n"
      ],
      "metadata": {
        "colab": {
          "base_uri": "https://localhost:8080/"
        },
        "id": "8GoBbYOHClm_",
        "outputId": "b8bf569f-3687-425d-b47f-3b44955b40d4"
      },
      "execution_count": 11,
      "outputs": [
        {
          "output_type": "stream",
          "name": "stdout",
          "text": [
            "True\n"
          ]
        }
      ]
    },
    {
      "cell_type": "code",
      "source": [
        "'''\n",
        "11. Write a Python program to print a specified list after removing the 0th, 4th and 5th elements. (enumerate)\n",
        "\n",
        "Sample Output\n",
        "\n",
        "[\"Cat\", \"Dog\", \"Elephant\", \"Fox\", \"Tiger\", \"Lion\", \"Ponda\"]\n",
        "\n",
        "['Dog', 'Elephant', 'Fox', 'Ponda']\n",
        "'''\n",
        "# Method 1\n",
        "input = [\"Cat\", \"Dog\", \"Elephant\", \"Fox\", \"Tiger\", \"Lion\", \"Ponda\"]\n",
        "input = [x for (i,x) in enumerate(input) if i not in (0,4,5)]\n",
        "print (input)\n",
        "\n",
        "#Method 2\n",
        "x = [\"Cat\", \"Dog\", \"Elephant\", \"Fox\", \"Tiger\", \"Lion\", \"Ponda\"]\n",
        "remove = [0,4,5]\n",
        "new = []\n",
        "for i,j in enumerate(x):\n",
        "  if i not in remove:\n",
        "    new.append(j)\n",
        "print(new)\n",
        "\n",
        "\n",
        "\n",
        "'''\n",
        "EXPLANATION:\n",
        "\n",
        "1. You have a list called x containing the names of animals:\n",
        "2. You have another list called remove_list, which contains the indices (positions)\n",
        " of elements you want to remove from the x list:\n",
        "3. You initialize an empty list called new_list, which will be used to store\n",
        "the elements from the x list after removing the elements at the specified indices:\n",
        "4. You use a for loop to iterate through the elements of the x list, and you\n",
        "also use the ENUMERATE function to get both the index i and the value j of each element in x:\n",
        "5. Inside the loop, you check if the current index i is not in the remove_list:\n",
        "6. If the index is not in the remove_list, it means you want to keep that element.\n",
        " In this case, you append the element j (which is the name of an animal) to the new_list:\n",
        "7. You repeat steps 5 and 6 for all elements in the x list.\n",
        "\n",
        "After the loop finishes, you will have new_list containing the elements from\n",
        "the original x list, but with the elements at the specified indices (0, 4, and 5) removed.\n",
        "\n",
        "Finally, you print the new_list to see the result:\n",
        "8. The output will be the x list with the elements at indices 0, 4, and 5 removed:\n",
        "\n",
        "So, the code effectively removed the elements \"Cat,\" \"Tiger,\" and \"Lion\" from\n",
        " the original list and stored the remaining elements in new_list.\n",
        "'''\n",
        "\n",
        "\n"
      ],
      "metadata": {
        "colab": {
          "base_uri": "https://localhost:8080/",
          "height": 140
        },
        "id": "cUxbcFhID4eT",
        "outputId": "9876c4cc-feea-45c3-dae3-a0abac5c8921"
      },
      "execution_count": 3,
      "outputs": [
        {
          "output_type": "stream",
          "name": "stdout",
          "text": [
            "['Dog', 'Elephant', 'Fox', 'Ponda']\n",
            "['Dog', 'Elephant', 'Fox', 'Ponda']\n"
          ]
        },
        {
          "output_type": "execute_result",
          "data": {
            "text/plain": [
              "'\\nExplanation:\\n\\nWe start with the given input list my_list.\\n\\nWe create a list called indices_to_remove which contains the indices we want to remove: 0, 4, and 5.\\n\\nWe create an empty list called result_list to store the elements of my_list after removal.\\n\\nWe use a for loop and the enumerate function to iterate over the elements of my_list along with their indices.\\n\\nInside the loop, we check if the current index is not in the indices_to_remove list.\\n\\nIf the index is not in the list, it means we want to keep that element, so we add it to the result_list.\\n\\nFinally, we print the result_list, which contains the specified list after removing the 0th, 4th, and 5th elements.\\n'"
            ],
            "application/vnd.google.colaboratory.intrinsic+json": {
              "type": "string"
            }
          },
          "metadata": {},
          "execution_count": 3
        }
      ]
    },
    {
      "cell_type": "code",
      "source": [
        "'''\n",
        "12. Write a Python program to print the numbers of a specified list after removing even numbers from it\n",
        "\n",
        "Sample Output\n",
        "\n",
        "[7,32,81,20,25,14,23,27]\n",
        "\n",
        "[7, 81, 25, 23, 27]\n",
        "'''\n",
        "#Method 1\n",
        "a = [7,32,81,20,25,14,23,27]\n",
        "odd = []\n",
        "for i in a:\n",
        "  if i%2 !=0:\n",
        "    odd.append(i)\n",
        "print(odd)\n",
        "\n",
        "#Method 2\n",
        "x = [7,32,81,20,25,14,23,27]\n",
        "for e in x:\n",
        "  if e % 2 == 0:\n",
        "    x.remove(e)\n",
        "print (x)\n",
        "\n",
        "#Method 2\n",
        "list = [7,32,81,20,25,14,23,27]\n",
        "list = [e for e in list if e % 2 !=0]\n",
        "print (list)"
      ],
      "metadata": {
        "colab": {
          "base_uri": "https://localhost:8080/"
        },
        "id": "sjX8NHRsr7AZ",
        "outputId": "12c1ee67-882f-437c-b61b-4ca574d2b5b0"
      },
      "execution_count": 4,
      "outputs": [
        {
          "output_type": "stream",
          "name": "stdout",
          "text": [
            "[7, 81, 25, 23, 27]\n",
            "[7, 81, 25, 23, 27]\n",
            "[7, 81, 25, 23, 27]\n"
          ]
        }
      ]
    },
    {
      "cell_type": "code",
      "source": [
        "'''\n",
        "13. Write a Python program to shuffle and print a specified list (shuffle)\n",
        "\n",
        "Sample Output\n",
        "\n",
        "[\"Cat\", \"Dog\", \"Elephant\", \"Fox\", \"Tiger\", \"Lion\", \"Ponda\"]\n",
        "\n",
        "['Fox', 'Cat', 'Tiger', 'Lion', 'Dog', 'Ponda', 'Elephant']\n",
        "'''\n",
        "import random\n",
        "\n",
        "input = [\"Cat\", \"Dog\", \"Elephant\", \"Fox\", \"Tiger\", \"Lion\", \"Ponda\"]\n",
        "random.shuffle(input)\n",
        "\n",
        "print (input)"
      ],
      "metadata": {
        "colab": {
          "base_uri": "https://localhost:8080/"
        },
        "id": "XzdoJe5iK4eF",
        "outputId": "3788ab45-7c78-4f62-fb82-6a50657736ad"
      },
      "execution_count": 8,
      "outputs": [
        {
          "output_type": "stream",
          "name": "stdout",
          "text": [
            "['Fox', 'Cat', 'Elephant', 'Tiger', 'Ponda', 'Lion', 'Dog']\n"
          ]
        }
      ]
    },
    {
      "cell_type": "code",
      "source": [
        "'''\n",
        "14. Write a Python program to generate and print a list of first and last 5 elements where the values are square of numbers between 1 and 30\n",
        "\n",
        "Sample Output\n",
        "\n",
        "First 5 elements : [1, 4, 9, 16, 25]\n",
        "\n",
        "Last 5 elements : [625, 676, 729, 784, 841]\n",
        "'''\n",
        "#Method 1\n",
        "x = []\n",
        "for i in range(1,30):\n",
        "  y = i**2\n",
        "  x.append(y)\n",
        "print(x)\n",
        "print(x[:5])\n",
        "print(x[-5:])\n",
        "# Method 1\n",
        "# Create an empty list for the squares\n",
        "squares = []\n",
        "\n",
        "# Loop through numbers from 1 to 30\n",
        "for i in range(1, 31):\n",
        "    # Calculate the square of the number and add it to the list\n",
        "    squares.append(i*i)\n",
        "\n",
        "# Print the first 5 elements from the list\n",
        "print(\"First 5 elements :\", squares[:5])\n",
        "\n",
        "# Print the last 5 elements from the list\n",
        "print(\"Last 5 elements :\", squares[-5:])\n",
        "#==========================================================================================================\n",
        "# Method 2\n",
        "# Generate squares of numbers between 1 and 30\n",
        "squares = [i**2 for i in range(1, 31)]\n",
        "\n",
        "# Print the first and last 5 elements\n",
        "print(\"First 5 elements :\", squares[:5])\n",
        "print(\"Last 5 elements :\", squares[-5:])\n",
        "#------------------------------------------------------------------------------------------------------------\n",
        "# Method 3\n",
        "def generate_list():\n",
        "    # List comprehension to generate squares of numbers between 1 and 30\n",
        "    squares = [i**2 for i in range(1, 31)]\n",
        "\n",
        "    # Print the first 5 and last 5 elements\n",
        "    print(\"First 5 elements :\", squares[:5])\n",
        "    print(\"Last 5 elements :\", squares[-5:])\n",
        "\n",
        "generate_list()\n",
        "\"---------------------------------------------------------------------------------------------------\"\n",
        "# Method 4\n",
        "def generate_squares():\n",
        "    # Use a list comprehension to generate the squares of numbers from 1 to 30\n",
        "    squares = [i**2 for i in range(1, 31)]\n",
        "\n",
        "    # Extract the first and last 5 elements\n",
        "    first_5 = squares[:5]\n",
        "    last_5 = squares[-5:]\n",
        "\n",
        "    return first_5, last_5\n",
        "\n",
        "# Generate the lists\n",
        "first_5, last_5 = generate_squares()\n",
        "\n",
        "# Print the results\n",
        "print(\"First 5 elements :\", first_5)\n",
        "print(\"Last 5 elements :\", last_5)"
      ],
      "metadata": {
        "colab": {
          "base_uri": "https://localhost:8080/"
        },
        "id": "k44uRuUqQwJh",
        "outputId": "32c8b4f1-d8f7-4486-a757-98ff3eb67f03"
      },
      "execution_count": 2,
      "outputs": [
        {
          "output_type": "stream",
          "name": "stdout",
          "text": [
            "[1, 4, 9, 16, 25, 36, 49, 64, 81, 100, 121, 144, 169, 196, 225, 256, 289, 324, 361, 400, 441, 484, 529, 576, 625, 676, 729, 784, 841]\n",
            "[1, 4, 9, 16, 25]\n",
            "[625, 676, 729, 784, 841]\n",
            "First 5 elements : [1, 4, 9, 16, 25]\n",
            "Last 5 elements : [676, 729, 784, 841, 900]\n",
            "First 5 elements : [1, 4, 9, 16, 25]\n",
            "Last 5 elements : [676, 729, 784, 841, 900]\n",
            "First 5 elements : [1, 4, 9, 16, 25]\n",
            "Last 5 elements : [676, 729, 784, 841, 900]\n",
            "First 5 elements : [1, 4, 9, 16, 25]\n",
            "Last 5 elements : [676, 729, 784, 841, 900]\n"
          ]
        }
      ]
    },
    {
      "cell_type": "code",
      "source": [
        "'''\n",
        "15. Write a Python program to generate all permutations of a list in Python. (itertools)\n",
        "\n",
        "Sample Output\n",
        "\n",
        "[1,2,3]\n",
        "\n",
        "[(1, 2, 3), (1, 3, 2), (2, 1, 3), (2, 3, 1), (3, 1, 2), (3, 2, 1)]\n",
        "'''\n",
        "# Method 1\n",
        "\n",
        "# Method 2\n",
        "#To generate all permutations of a list in Python, you can use the permutations function from the itertools module.\n",
        "# Here's a Python program\n",
        "\n",
        "\n",
        "\n",
        "import itertools\n",
        "\n",
        "# Define the list\n",
        "numbers = [1, 2, 3]\n",
        "\n",
        "# Generate all permutations of the list\n",
        "permutations = list (itertools.permutations(numbers))\n",
        "\n",
        "# Print the permutations\n",
        "print(permutations)\n",
        "\n",
        "# Method 2\n",
        "\n",
        "\n",
        "'''\n",
        "Explanation:\n",
        "\n",
        "We import the itertools module which provides a set of fast, memory-efficient tools for working with iterators (like loops).\n",
        "We use the permutations function from itertools to get all possible orders (permutations) of the items in the list lst.\n",
        "The result is a list of tuples, where each tuple represents a permutation of the original list.\n",
        "'''"
      ],
      "metadata": {
        "colab": {
          "base_uri": "https://localhost:8080/",
          "height": 87
        },
        "id": "gcetehXIz6kS",
        "outputId": "764f35bd-3697-4933-bfa9-77685d18a1e1"
      },
      "execution_count": 1,
      "outputs": [
        {
          "output_type": "stream",
          "name": "stdout",
          "text": [
            "[(1, 2, 3), (1, 3, 2), (2, 1, 3), (2, 3, 1), (3, 1, 2), (3, 2, 1)]\n"
          ]
        },
        {
          "output_type": "execute_result",
          "data": {
            "text/plain": [
              "'\\nExplanation:\\n\\nWe import the itertools module which provides a set of fast, memory-efficient tools for working with iterators (like loops).\\nWe use the permutations function from itertools to get all possible orders (permutations) of the items in the list lst.\\nThe result is a list of tuples, where each tuple represents a permutation of the original list.\\n'"
            ],
            "application/vnd.google.colaboratory.intrinsic+json": {
              "type": "string"
            }
          },
          "metadata": {},
          "execution_count": 1
        }
      ]
    },
    {
      "cell_type": "code",
      "source": [
        "'''\n",
        "16. Write a Python program to convert a list of characters into a string\n",
        "\n",
        "Sample Output\n",
        "\n",
        "['T','u','t','o','r',' ','J','o','e','s']\n",
        "\n",
        "Tutor Joes\n",
        "'''\n",
        "x = ['T','u','t','o','r',' ','J','o','e','s']\n",
        "words = ''.join(x)\n",
        "print(words)\n",
        "\n"
      ],
      "metadata": {
        "colab": {
          "base_uri": "https://localhost:8080/"
        },
        "id": "MWQmJZsh-KYG",
        "outputId": "5942adba-023c-4fdd-c64a-4e0c96f79f54"
      },
      "execution_count": 18,
      "outputs": [
        {
          "output_type": "stream",
          "name": "stdout",
          "text": [
            "Tutor Joes\n"
          ]
        }
      ]
    },
    {
      "cell_type": "code",
      "source": [
        "'''\n",
        "17. Write a Python program to find the index of an item in a specified list\n",
        "\n",
        "Sample Output\n",
        "\n",
        "[20, 70, 30, 90, 10, 30, 90, 10, 80]\n",
        "\n",
        "Item to find the index of 30\n",
        "\n",
        "Index Number of Item = 2\n",
        "\n",
        "'''\n",
        "a = [20, 70, 30, 90, 10, 30, 90, 10, 80]\n",
        "item_to_find = 30\n",
        "index_of_item = a.index(item_to_find) # This line finds out where the number is in the list.\n",
        "print(\"Index Number of Item =\", index_of_item)"
      ],
      "metadata": {
        "colab": {
          "base_uri": "https://localhost:8080/"
        },
        "id": "2dapyquv6vKo",
        "outputId": "0b831ef2-f87d-42b8-8b7f-9664fae3ba2e"
      },
      "execution_count": 19,
      "outputs": [
        {
          "output_type": "stream",
          "name": "stdout",
          "text": [
            "Index Number of Item = 2\n"
          ]
        }
      ]
    },
    {
      "cell_type": "code",
      "source": [
        "'''\n",
        "18. Write a Python program to flatten a shallow list\n",
        "\n",
        "Sample Output\n",
        "\n",
        "[[20,30,70],[30,90,10], [30,20], [70,90,10,80]]\n",
        "\n",
        "[20, 30, 70, 30, 90, 10, 30, 20, 70, 90, 10, 80]\n",
        "'''\n",
        "a = [[20,30,70],[30,90,10], [30,20], [70,90,10,80]]\n",
        "flattened_list = []\n",
        "for i in a:\n",
        "  for j in i:\n",
        "   flattened_list.append(j)\n",
        "print (flattened_list)\n"
      ],
      "metadata": {
        "colab": {
          "base_uri": "https://localhost:8080/"
        },
        "id": "GG9J8dHnIVTN",
        "outputId": "72dd963c-a0aa-4247-e3c9-b6d9dc35e916"
      },
      "execution_count": 20,
      "outputs": [
        {
          "output_type": "stream",
          "name": "stdout",
          "text": [
            "[20, 30, 70, 30, 90, 10, 30, 20, 70, 90, 10, 80]\n"
          ]
        }
      ]
    },
    {
      "cell_type": "code",
      "source": [
        "'''\n",
        "19. Write a Python program to add a list to the second list\n",
        "\n",
        "Sample Output\n",
        "\n",
        "[10, 20, 30, 40]\n",
        "\n",
        "[\"Cat\", \"Dog\", \"Lion\", \"Ponda\"]\n",
        "\n",
        "[10, 20, 30, 40, 'Cat', 'Dog', 'Lion', 'Ponda']\n",
        "'''\n",
        "a = [10, 20, 30, 40]\n",
        "b = [\"Cat\", \"Dog\", \"Lion\", \"Ponda\"]\n",
        "output = a + b\n",
        "print (output)\n",
        "\n",
        "#Method 2\n",
        "a = [10, 20, 30, 40]\n",
        "b = [\"Cat\", \"Dog\", \"Lion\", \"Ponda\"]\n",
        "\n",
        "# Using a for loop to add items from 'a' to 'b'\n",
        "for item in b:\n",
        "    a.append(item)\n",
        "\n",
        "print(a)\n",
        "\n",
        "'''\n",
        "The a.append(item) in Python refers to a method used on lists. Here's a breakdown of its meaning:\n",
        "\n",
        "a: This refers to a list in Python. For instance, if you have a = [1, 2, 3], then a is a list containing three numbers.\n",
        "\n",
        ".append(): This is a method (a specific kind of function) that can be called on lists. What it does is it adds (or \"appends\") an item to the end of the list.\n",
        "\n",
        "item: This is what you want to add to the end of the list a. It can be any value—like a number, a string, another list, etc.\n",
        "\n",
        "Coclusion: In simple words, a.append(item) means \"Add the value of item to the end of the list a.\"\n",
        "'''"
      ],
      "metadata": {
        "colab": {
          "base_uri": "https://localhost:8080/"
        },
        "id": "TYQRUyp2Yv1l",
        "outputId": "e8429c8f-f0ba-4c9b-d5a3-696559fdd913"
      },
      "execution_count": 22,
      "outputs": [
        {
          "output_type": "stream",
          "name": "stdout",
          "text": [
            "[10, 20, 30, 40, 'Cat', 'Dog', 'Lion', 'Ponda']\n",
            "[10, 20, 30, 40, 'Cat', 'Dog', 'Lion', 'Ponda']\n"
          ]
        }
      ]
    },
    {
      "cell_type": "code",
      "source": [
        "'''\n",
        "20. Write a Python program to select an item randomly from a list Using random.choice()\n",
        "\n",
        "Sample Output\n",
        "\n",
        "[\"Cat\", \"Dog\", \"Elephant\", \"Fox\", \"Tiger\", \"Lion\", \"Ponda\"]\n",
        "\n",
        "Item randomly from a list : Fox\n",
        "'''\n",
        "#If we want to find randomly any element\n",
        "import random\n",
        "\n",
        "a = [\"Cat\", \"Dog\", \"Elephant\", \"Fox\", \"Tiger\", \"Lion\", \"Ponda\"]\n",
        "\n",
        "chosen_item = random.choice(a)\n",
        "print(chosen_item)"
      ],
      "metadata": {
        "colab": {
          "base_uri": "https://localhost:8080/"
        },
        "id": "Vs4C_R8lcUf9",
        "outputId": "64243dee-ca22-4afd-e576-1d4d3ee4c731"
      },
      "execution_count": 3,
      "outputs": [
        {
          "output_type": "stream",
          "name": "stdout",
          "text": [
            "Dog\n"
          ]
        }
      ]
    },
    {
      "cell_type": "code",
      "source": [
        "'''\n",
        "21. Write a python program to check whether two lists are circularly identical\n",
        "\n",
        "Sample Output\n",
        "\n",
        "[8, 8, 12, 12, 8]\n",
        "\n",
        "[8, 8, 8, 12, 12]\n",
        "\n",
        "[1, 8, 8, 12, 12]\n",
        "\n",
        "Compare List1 and List2 : True\n",
        "\n",
        "Compare List1 and List3 : False\n",
        "'''\n",
        "list1 = [8, 8, 12, 12, 8]\n",
        "\n",
        "list2 = [8, 8, 8, 12, 12]\n",
        "\n",
        "list3 = [1, 8, 8, 12, 12]\n",
        "print(\"Compare List1 and List2 : \",' '.join(map(str, list2)) in ' '.join(map(str, list1 * 2)))\n",
        "print (' '.join(map(str, list2)))\n",
        "print (' '.join(map(str, list1 * 2)))\n",
        "print(\"Compare List1 and List3 : \",' '.join(map(str, list3)) in ' '.join(map(str, list1 * 2)))\n",
        "\n"
      ],
      "metadata": {
        "colab": {
          "base_uri": "https://localhost:8080/"
        },
        "id": "RYXQF-jQVQAD",
        "outputId": "92f3f26a-fa3c-4f4a-ec6c-22e40703f88c"
      },
      "execution_count": 9,
      "outputs": [
        {
          "output_type": "stream",
          "name": "stdout",
          "text": [
            "Compare List1 and List2 :  True\n",
            "8 8 8 12 12\n",
            "8 8 12 12 8 8 8 12 12 8\n",
            "Compare List1 and List3 :  False\n"
          ]
        }
      ]
    },
    {
      "cell_type": "code",
      "source": [
        "'''\n",
        "22. Write a Python program to find the second smallest number in a list\n",
        "\n",
        "Sample Output\n",
        "\n",
        "[2,4,56,78,4,34,5,8,9]\n",
        "\n",
        "Second Smallest Number : 4\n",
        "'''\n",
        "a = [2,4,56,78,4,34,5,8,9]\n",
        "a.sort()\n",
        "print (a[1])\n",
        "\n",
        "'''\n",
        "In some cases, if the smallest number appears more than once in the list, your code will still return the smallest\n",
        "number, not the second smallest distinct number. For example:\n",
        "a = [2, 2, 4, 56, 78, 4, 34, 5, 8, 9]\n",
        "Your code would return 2 again instead of 4, since 2 appears twice.\n",
        "To handle such cases, you can convert the list to a set (to remove duplicates) and then convert it back to a list and sort:\n",
        "'''\n",
        "a = [2, 2, 4, 56, 78, 4, 34, 5, 8, 9]\n",
        "a = list (set(a))\n",
        "a.sort()\n",
        "print(a[1])"
      ],
      "metadata": {
        "colab": {
          "base_uri": "https://localhost:8080/"
        },
        "id": "iAJ5M3xqY5WQ",
        "outputId": "79f78196-5656-4f5f-8d03-4c94269cc379"
      },
      "execution_count": 1,
      "outputs": [
        {
          "output_type": "stream",
          "name": "stdout",
          "text": [
            "4\n",
            "4\n"
          ]
        }
      ]
    },
    {
      "cell_type": "code",
      "source": [
        "'''\n",
        "23. Write a Python program to find the second largest number in a list\n",
        "\n",
        "Sample Output\n",
        "\n",
        "[82,4,56,78,4,34,5,100,9]\n",
        "\n",
        "Second Largest Number : 82\n",
        "'''\n",
        "a = [82,4,56,78,4,34,5,100,9]\n",
        "a.sort()\n",
        "print (a[-2])\n",
        "\n",
        "'''\n",
        "In some cases, if the smallest number appears more than once in the list, your code will still return the smallest\n",
        "number, not the second smallest distinct number. For example:\n",
        "a = [82,4,56,78,4,34,5,100,100,9]\n",
        "Your code would return 100 again instead of 82, since 100 appears twice.\n",
        "To handle such cases, you can convert the list to a set (to remove duplicates) and then convert it back to a list and sort:\n",
        "'''\n",
        "a = [82,4,56,78,4,34,5,100,9]\n",
        "a = list(set(a))\n",
        "a.sort()\n",
        "print(a[-2])\n"
      ],
      "metadata": {
        "colab": {
          "base_uri": "https://localhost:8080/"
        },
        "id": "kOimnIEuZSVc",
        "outputId": "0d64afa6-35ee-4eaa-e29e-6f2078ee4b3b"
      },
      "execution_count": 2,
      "outputs": [
        {
          "output_type": "stream",
          "name": "stdout",
          "text": [
            "82\n",
            "82\n"
          ]
        }
      ]
    },
    {
      "cell_type": "code",
      "source": [
        "'''\n",
        "24. Write a Python program to get unique values from a list\n",
        "\n",
        "Sample Output\n",
        "\n",
        "[82, 4, 10, 56, 78, 4, 34, 5, 10, 9]\n",
        "\n",
        "[34, 4, 5, 9, 10, 78, 82, 56]\n",
        "'''\n",
        "# Method 1\n",
        "a = [82, 4, 10, 56, 78, 4, 34, 5, 10, 9]\n",
        "b = list(set(a))\n",
        "print(b)\n",
        "\n",
        "# Method 2\n",
        "a = [82, 4, 10, 56, 78, 4, 34, 5, 10, 9]\n",
        "b = []\n",
        "for i in a:\n",
        "  if i not in b:\n",
        "    b.append(i)\n",
        "print(b)\n"
      ],
      "metadata": {
        "colab": {
          "base_uri": "https://localhost:8080/"
        },
        "id": "WsUagiA07AUu",
        "outputId": "cd0ca9ae-fe8e-4f8d-e51b-9824c5a8f8e9"
      },
      "execution_count": 4,
      "outputs": [
        {
          "output_type": "stream",
          "name": "stdout",
          "text": [
            "[34, 4, 5, 9, 10, 78, 82, 56]\n",
            "[82, 4, 10, 56, 78, 34, 5, 9]\n"
          ]
        }
      ]
    },
    {
      "cell_type": "code",
      "source": [
        "'''\n",
        "25. Write a Python program to get the frequency of the elements in a list.\n",
        "\n",
        "Sample Output\n",
        "\n",
        "[10, 30, 50, 10, 20, 60, 20, 60, 40, 40, 50, 50, 30]\n",
        "\n",
        "Counter({50: 3, 10: 2, 30: 2, 20: 2, 60: 2, 40: 2})\n",
        "'''\n",
        "# Method 1\n",
        "from collections import Counter\n",
        "x = [10, 30, 50, 10, 20, 60, 20, 60, 40, 40, 50, 50, 30]\n",
        "y = Counter(x)\n",
        "print(y)\n",
        "\n",
        "\n",
        "\n"
      ],
      "metadata": {
        "colab": {
          "base_uri": "https://localhost:8080/"
        },
        "id": "jdlHm5abnYrm",
        "outputId": "9e8cd1a6-63f2-4449-d120-37185d958235"
      },
      "execution_count": 10,
      "outputs": [
        {
          "output_type": "stream",
          "name": "stdout",
          "text": [
            "Counter({50: 3, 10: 2, 30: 2, 20: 2, 60: 2, 40: 2})\n"
          ]
        }
      ]
    },
    {
      "cell_type": "code",
      "source": [],
      "metadata": {
        "id": "q7Z0hWLLI9wQ"
      },
      "execution_count": null,
      "outputs": []
    }
  ]
}
