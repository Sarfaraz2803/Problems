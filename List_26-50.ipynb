{
  "nbformat": 4,
  "nbformat_minor": 0,
  "metadata": {
    "colab": {
      "provenance": []
    },
    "kernelspec": {
      "name": "python3",
      "display_name": "Python 3"
    },
    "language_info": {
      "name": "python"
    }
  },
  "cells": [
    {
      "cell_type": "code",
      "execution_count": null,
      "metadata": {
        "colab": {
          "base_uri": "https://localhost:8080/"
        },
        "id": "R1JJxw2aJ3Gt",
        "outputId": "e512bb6f-bc9b-449f-e739-57b5d156ee64"
      },
      "outputs": [
        {
          "output_type": "stream",
          "name": "stdout",
          "text": [
            "['T1', 'J1', 'T2', 'J2', 'T3', 'J3', 'T4', 'J4', 'T5', 'J5', 'T6', 'J6', 'T7', 'J7', 'T8', 'J8', 'T9', 'J9', 'T10', 'J10']\n"
          ]
        }
      ],
      "source": [
        "'''\n",
        "26. Create a list by concatenating a given list which range goes from 1 to n\n",
        "\n",
        "Sample Output\n",
        "\n",
        "['T', 'J']\n",
        "\n",
        "N = 10\n",
        "\n",
        "['T1', 'J1', 'T2', 'J2', 'T3', 'J3', 'T4', 'J4', 'T5', 'J5', 'T6', 'J6', 'T7', 'J7', 'T8', 'J8', 'T9', 'J9', 'T10', 'J10']\n",
        "'''\n",
        "a = ['T', 'J']\n",
        "N = 10\n",
        "y = []\n",
        "for i in range (1, N+1):\n",
        "  for j in a:\n",
        "    y.append(j + str(i))\n",
        "print(y)\n",
        "\n"
      ]
    },
    {
      "cell_type": "code",
      "source": [
        "'''\n",
        "27. Write a Python program to get variable unique identification number or string\n",
        "\n",
        "Sample Output\n",
        "\n",
        "x = 30\n",
        "\n",
        "s = \"Tutor Joes\"\n",
        "\n",
        "Unique Identification Number : 7005f980\n",
        "\n",
        "Unique Identification String : c24bb0\n",
        "'''\n",
        "x = 30\n",
        "s = \"Tutor Joes\"\n",
        "\n",
        "x_id = id(x)\n",
        "s_id = id(s)\n",
        "\n",
        "print(\"Unique Identification Number =\", x_id)\n",
        "print(\"Unique Identification String =\", s_id)"
      ],
      "metadata": {
        "colab": {
          "base_uri": "https://localhost:8080/"
        },
        "id": "dNXwRQ3gJ9az",
        "outputId": "656383ec-af1a-49fb-eaf7-805d32931b3c"
      },
      "execution_count": null,
      "outputs": [
        {
          "output_type": "stream",
          "name": "stdout",
          "text": [
            "Unique Identification Number = 132604761932944\n",
            "Unique Identification String = 132604333949232\n"
          ]
        }
      ]
    },
    {
      "cell_type": "code",
      "source": [
        "'''\n",
        "28. Write a Python program to find common items from two lists\n",
        "\n",
        "Sample Output\n",
        "\n",
        "[23,45,67,78,89,34]\n",
        "\n",
        "[34,89,55,56,39,67]\n",
        "\n",
        "Common items from two lists : {89, 34, 67}\n",
        "'''\n",
        "#Method 1\n",
        "a = [23,45,67,78,89,34]\n",
        "b = [34,89,55,56,39,67]\n",
        "c = []\n",
        "for i in a:\n",
        "  for j in b:\n",
        "    if i == j:\n",
        "      c.append(i)\n",
        "print(set(c))\n",
        "\n",
        "# Method 2\n",
        "a = [23,45,67,78,89,34]\n",
        "b = [34,89,55,56,39,67]\n",
        "common = []\n",
        "for i in a:\n",
        "  if i in b:\n",
        "    common.append(i)\n",
        "print(common)\n",
        "print(set(common))"
      ],
      "metadata": {
        "colab": {
          "base_uri": "https://localhost:8080/"
        },
        "id": "FLvkyq9_u5Kh",
        "outputId": "436fef3f-2d09-4e50-b6e1-a4f82e73aa58"
      },
      "execution_count": null,
      "outputs": [
        {
          "output_type": "stream",
          "name": "stdout",
          "text": [
            "{89, 34, 67}\n",
            "[67, 89, 34]\n",
            "{89, 34, 67}\n"
          ]
        }
      ]
    },
    {
      "cell_type": "code",
      "source": [
        "'''\n",
        "29. Write a Python program to split a list based on first character of word\n",
        "\n",
        "Sample Output\n",
        "\n",
        "[\"cat\", \"dog\", \"cow\", \"tiger\", \"lion\", \"Fox\", \"Shark\", \"Snake\", \"turtle\", \"mouse\", \"monkey\", \"bear\"]\n",
        "\n",
        "F\n",
        "     Fox\n",
        "S\n",
        "     Shark\n",
        "     Snake\n",
        "b\n",
        "     bear\n",
        "c\n",
        "     cat\n",
        "     cow\n",
        "d\n",
        "     dog\n",
        "l\n",
        "     lion\n",
        "m\n",
        "     monkey\n",
        "     mouse\n",
        "t\n",
        "     tiger\n",
        "     turtle\n",
        "'''\n",
        "a = [\"cat\", \"dog\", \"cow\", \"tiger\", \"lion\", \"Fox\", \"Shark\", \"Snake\", \"turtle\", \"mouse\", \"monkey\", \"bear\"]\n",
        "new = {}\n",
        "for i in a:\n",
        "  first_char = i[0]\n",
        "  if first_char not in new:\n",
        "    new[first_char] = []\n",
        "  new[first_char].append(i)\n",
        "\n",
        "for first_char in\n",
        "\n",
        "\n",
        "\n",
        "animals = [\"cat\", \"dog\", \"cow\", \"tiger\", \"lion\", \"Fox\", \"Shark\", \"Snake\", \"turtle\", \"mouse\", \"monkey\", \"bear\"]\n",
        "\n",
        "grouped = {}\n",
        "\n",
        "# Grouping animals based on their first character\n",
        "for animal in animals:\n",
        "    key = animal[0]\n",
        "    if key not in grouped:\n",
        "        grouped[key] = []\n",
        "    grouped[key].append(animal)\n",
        "\n",
        "# Order keys to achieve the desired mixed-case output\n",
        "order = ['F', 'S', 'b', 'c', 'd', 'l', 'm', 't']\n",
        "\n",
        "# Printing the grouped animals based on the order\n",
        "for key in order:\n",
        "    print(key)\n",
        "    for animal in grouped[key]:\n",
        "        print(\"     \" + animal)\n",
        "\n"
      ],
      "metadata": {
        "colab": {
          "base_uri": "https://localhost:8080/"
        },
        "id": "GJEFWESu0h6x",
        "outputId": "77f51db6-e87b-4dbb-dbfd-fdc9a8595397"
      },
      "execution_count": null,
      "outputs": [
        {
          "output_type": "stream",
          "name": "stdout",
          "text": [
            "B\n",
            "     bear\n",
            "C\n",
            "     cat\n",
            "     cow\n",
            "D\n",
            "     dog\n",
            "F\n",
            "     Fox\n",
            "L\n",
            "     lion\n",
            "M\n",
            "     mouse\n",
            "     monkey\n",
            "S\n",
            "     Shark\n",
            "     Snake\n",
            "T\n",
            "     tiger\n",
            "     turtle\n"
          ]
        }
      ]
    },
    {
      "cell_type": "code",
      "source": [
        "a = [\"cat\",'Cart' ,\"dog\", \"cow\", \"tiger\", \"lion\", \"Fox\", \"Shark\", \"Snake\", \"turtle\", \"mouse\", \"monkey\", \"bear\"]\n",
        "b = []\n",
        "for i in a:\n",
        " if i[0] not in b:\n",
        "  print (i[0])\n",
        "  for j in a:\n",
        "    if i[0] == j[0]:\n",
        "      print(j)\n",
        "      b.append(i[0])\n"
      ],
      "metadata": {
        "id": "7V9lzOYo5jEk",
        "outputId": "c63f97ff-1f9d-4025-94f3-95f4ac4582c5",
        "colab": {
          "base_uri": "https://localhost:8080/"
        }
      },
      "execution_count": null,
      "outputs": [
        {
          "output_type": "stream",
          "name": "stdout",
          "text": [
            "c\n",
            "cat\n",
            "cow\n",
            "C\n",
            "Cart\n",
            "d\n",
            "dog\n",
            "t\n",
            "tiger\n",
            "turtle\n",
            "l\n",
            "lion\n",
            "F\n",
            "Fox\n",
            "S\n",
            "Shark\n",
            "Snake\n",
            "m\n",
            "mouse\n",
            "monkey\n",
            "b\n",
            "bear\n"
          ]
        }
      ]
    },
    {
      "cell_type": "code",
      "source": [
        "'''\n",
        "30. Write a Python program to select the odd number of a list\n",
        "\n",
        "Sample Output\n",
        "\n",
        "[1,2,4,3,6,7,5,8,9,7,8,9,10]\n",
        "\n",
        "[1, 3, 7, 5, 9, 7, 9]\n",
        "'''\n",
        "a = [1,2,4,3,6,7,5,8,9,7,8,9,10]\n",
        "odd = []\n",
        "even = []\n",
        "for i in a:\n",
        "  if i % 2 == 0:\n",
        "    even.append(i)\n",
        "  else:\n",
        "    odd.append(i)\n",
        "print (odd)"
      ],
      "metadata": {
        "colab": {
          "base_uri": "https://localhost:8080/"
        },
        "id": "35c0E8ie5OI9",
        "outputId": "1b7a2d6b-cfc4-495d-cec0-91cf112331f6"
      },
      "execution_count": null,
      "outputs": [
        {
          "output_type": "stream",
          "name": "stdout",
          "text": [
            "[1, 3, 7, 5, 9, 7, 9]\n"
          ]
        }
      ]
    },
    {
      "cell_type": "code",
      "source": [
        "'''\n",
        "31. Write a Python Program to count unique values inside a list\n",
        "\n",
        "Sample Output\n",
        "\n",
        "[10, 20, 30, 50, 80, 70, 70, 80, 10]\n",
        "\n",
        "No of Unique Items in List : 6\n",
        "'''\n",
        "# Method 1\n",
        "a = [10, 20, 30, 50, 80, 70, 70, 80, 10]\n",
        "new = set(a)\n",
        "print (new)\n",
        "print(\"No of Unique Items in List :\",len(new))\n",
        "\n",
        "# Method 2\n",
        "\n",
        "a = [10, 20, 30, 50, 80, 70, 70, 80, 10]\n",
        "b = []\n",
        "for i in a:\n",
        "  if i not in b:\n",
        "    b.append(i)\n",
        "print (len(b))\n",
        "\n",
        "# Method 3\n",
        "a = [10, 20, 30, 50, 80, 70, 70, 80, 10]\n",
        "b = []\n",
        "count = 0\n",
        "for i in a:\n",
        "  if i not in b:\n",
        "    count += 1\n",
        "    b.append(i)\n",
        "print (count)\n",
        "\n"
      ],
      "metadata": {
        "colab": {
          "base_uri": "https://localhost:8080/"
        },
        "id": "Mct_dS5L6J9O",
        "outputId": "70d49326-4af5-4e03-b355-c6bf07c96b9a"
      },
      "execution_count": null,
      "outputs": [
        {
          "output_type": "stream",
          "name": "stdout",
          "text": [
            "{70, 10, 80, 50, 20, 30}\n",
            "No of Unique Items in List : 6\n",
            "6\n",
            "6\n"
          ]
        }
      ]
    },
    {
      "cell_type": "code",
      "source": [
        "'''\n",
        "32. Write a Python Program to List product excluding duplicates\n",
        "\n",
        "Sample Output\n",
        "\n",
        "[2, 1, 2, 4, 6, 4, 3, 2, 1]\n",
        "\n",
        "Duplication removal list product : 144\n",
        "\n",
        "'''\n",
        "# Method 1\n",
        "a = [2, 1, 2, 4, 6, 4, 3, 2, 1]\n",
        "b = set (a)\n",
        "product = 1\n",
        "for i in b:\n",
        "  product *= i\n",
        "print(\"Duplication removal list product :\",product)\n",
        "\n",
        "# Method 2\n",
        "a = [2, 1, 2, 4, 6, 4, 3, 2, 1]\n",
        "b = []\n",
        "product =1\n",
        "for i in a:\n",
        "  if i not in b:\n",
        "    b.append(i)\n",
        "    product *= i\n",
        "print (product)\n",
        "\n",
        "\n"
      ],
      "metadata": {
        "colab": {
          "base_uri": "https://localhost:8080/"
        },
        "id": "0HqomYyu7ehK",
        "outputId": "70b67546-bc86-4f9d-81a8-8e158d78d95c"
      },
      "execution_count": null,
      "outputs": [
        {
          "output_type": "stream",
          "name": "stdout",
          "text": [
            "Duplication removal list product : 144\n",
            "144\n"
          ]
        }
      ]
    },
    {
      "cell_type": "code",
      "source": [
        "'''\n",
        "33. Write a Python Program to Extract elements with Frequency greater than K\n",
        "\n",
        "Sample Output\n",
        "\n",
        "[4, 6, 4, 3, 3, 4, 3, 7, 8, 8]\n",
        "'''\n",
        "a = [4, 6, 4, 3, 3, 4, 3, 7, 8, 8]\n",
        "k = 2\n",
        "result = []\n",
        "for i in a:\n",
        "  if a.count(i) > k and i not in result:\n",
        "    result.append(i)\n",
        "print (result)\n"
      ],
      "metadata": {
        "colab": {
          "base_uri": "https://localhost:8080/"
        },
        "id": "95osj2Y3BIbf",
        "outputId": "3b402724-e56b-4bdf-d914-f79fafde9fd7"
      },
      "execution_count": null,
      "outputs": [
        {
          "output_type": "stream",
          "name": "stdout",
          "text": [
            "[4, 3]\n"
          ]
        }
      ]
    },
    {
      "cell_type": "code",
      "source": [
        "'''\n",
        "34. Write a Python Program to Test if List contains elements in Range\n",
        "\n",
        "Sample Output\n",
        "\n",
        "[4, 5, 6, 7, 3, 9]\n",
        "\n",
        "Does list contain all elements in range : True\n",
        "'''\n",
        "a = [4, 5, 6, 7, 3, 9]\n",
        "min1 = min(a)\n",
        "max1 = max(a)\n",
        "k = 0\n",
        "for i in range(0, len(a)):\n",
        "  if a[i] >= min1 and a[i] <= max1:\n",
        "    k = k+1\n",
        "    if len(a) == k:\n",
        "      print (True)\n",
        "  else:\n",
        "    print (False)\n",
        "\n",
        "\n",
        "\n"
      ],
      "metadata": {
        "colab": {
          "base_uri": "https://localhost:8080/"
        },
        "id": "tax41kdp00pE",
        "outputId": "8a76f892-bacd-4cdf-b972-da40738d7c90"
      },
      "execution_count": null,
      "outputs": [
        {
          "output_type": "stream",
          "name": "stdout",
          "text": [
            "True\n"
          ]
        }
      ]
    },
    {
      "cell_type": "code",
      "source": [
        "'''\n",
        "35. Write a Python program to check if the list contains three consecutive common numbers in Python\n",
        "\n",
        "Sample Output\n",
        "\n",
        "[18, 18, 18, 6, 3, 4, 9, 9, 9]\n",
        "\n",
        "Three Consecutive common numbers = 18, 9\n",
        "'''\n",
        "a = [18, 18, 18, 6, 3, 4, 9, 9, 9]\n",
        "b = []\n",
        "for i in range(0, len(a)-2):\n",
        "  print(i)\n",
        "  print(f'{a[i]} == {a[i+1]} and {a[i+1] }== {a[i+2]}')\n",
        "  if a[i] == a[i+1] and a[i+1] == a[i+2]:\n",
        "    b.append(a[i])\n",
        "print (b)\n",
        "\n",
        "output = ','.join(map(str,b))\n",
        "print (output)\n",
        "\n",
        "\n"
      ],
      "metadata": {
        "colab": {
          "base_uri": "https://localhost:8080/"
        },
        "id": "73LppenM3ERh",
        "outputId": "a72b7065-7906-4b0d-a819-118cddbcf571"
      },
      "execution_count": null,
      "outputs": [
        {
          "output_type": "stream",
          "name": "stdout",
          "text": [
            "0\n",
            "18 == 18 and 18== 18\n",
            "1\n",
            "18 == 18 and 18== 6\n",
            "2\n",
            "18 == 6 and 6== 3\n",
            "3\n",
            "6 == 3 and 3== 4\n",
            "4\n",
            "3 == 4 and 4== 9\n",
            "5\n",
            "4 == 9 and 9== 9\n",
            "6\n",
            "9 == 9 and 9== 9\n",
            "[18, 9]\n",
            "18,9\n"
          ]
        }
      ]
    },
    {
      "cell_type": "code",
      "source": [
        "'''\n",
        "36. Write a Python program to find the Strongest Neighbour\n",
        "\n",
        "Sample Output\n",
        "\n",
        "[10,20,30,20,30,400]\n",
        "\n",
        "20 30 30 30 400\n",
        "'''\n",
        "# Method 1\n",
        "a = [10,20,30,20,30,400]\n",
        "for i in range(1, len(a)):\n",
        "  m = max(a[i], a[i-1])\n",
        "  print (m, end=\" \")\n",
        "\n",
        "# Method 2\n",
        "a = [10,20,30,20,30,400]\n",
        "b = []\n",
        "for i in range (0, len(a)-1):\n",
        "  if a[i] > a[i+1]:\n",
        "    b.append(a[i])\n",
        "  else:\n",
        "    b.append(a[i+1])\n",
        "print(\" \".join(map(str, b)))\n"
      ],
      "metadata": {
        "colab": {
          "base_uri": "https://localhost:8080/"
        },
        "id": "4Sv1kOqvS0Fk",
        "outputId": "4c1bf001-342e-4b35-a21e-09caff5e0e13"
      },
      "execution_count": null,
      "outputs": [
        {
          "output_type": "stream",
          "name": "stdout",
          "text": [
            "20 30 30 30 400 20 30 30 30 400\n",
            "20 30 30 30 400 20 30 30 30 400\n"
          ]
        }
      ]
    },
    {
      "cell_type": "code",
      "source": [
        "'''\n",
        "37. Write a Python Program to print all Possible Combinations from the three Digits\n",
        "\n",
        "Sample Output\n",
        "\n",
        "[1, 2, 3]\n",
        "\n",
        "1 2 3\n",
        "\n",
        "1 3 2\n",
        "\n",
        "2 1 3\n",
        "\n",
        "2 3 1\n",
        "\n",
        "3 1 2\n",
        "\n",
        "3 2 1\n",
        "'''\n",
        "digits = [1, 2, 3]\n",
        "\n",
        "# This will store all the combinations\n",
        "combinations = []\n",
        "\n",
        "# Nested loops to go through each digit\n",
        "for i in digits:\n",
        "    for j in digits:\n",
        "        for k in digits:\n",
        "            # Only add unique combinations\n",
        "            if i != j and j != k and i != k:\n",
        "                combinations.append((i, j, k))\n",
        "\n",
        "print(combinations)\n",
        "# Printing the combinations vertically without commas\n",
        "for combo in combinations:\n",
        "    print(combo[0], combo[1], combo[2])"
      ],
      "metadata": {
        "colab": {
          "base_uri": "https://localhost:8080/"
        },
        "id": "Ophfz5-Vs9YO",
        "outputId": "80a81eb7-a171-4a27-eb0f-64d9be3d1a44"
      },
      "execution_count": null,
      "outputs": [
        {
          "output_type": "stream",
          "name": "stdout",
          "text": [
            "[(1, 2, 3), (1, 3, 2), (2, 1, 3), (2, 3, 1), (3, 1, 2), (3, 2, 1)]\n",
            "1 2 3\n",
            "1 3 2\n",
            "2 1 3\n",
            "2 3 1\n",
            "3 1 2\n",
            "3 2 1\n"
          ]
        }
      ]
    },
    {
      "cell_type": "code",
      "source": [
        "'''\n",
        "38. Write a Python program to find all the Combinations in the list with the given condition\n",
        "\n",
        "Sample Output\n",
        "\n",
        "['Tutor Joes', ['Software', 'Computer'], ['Solution', 'Education']]\n",
        "\n",
        "[ ['Tutor Joes', 'Software', 'Solution'], ['Tutor Joes', 'Computer', 'Education'] ]\n",
        "'''\n",
        "a = ['Tutor Joes', ['Software', 'Computer','botle'], ['Solution', 'Education','pen','paper']]\n",
        "b=[a[0]]\n",
        "m=[]\n",
        "for i in range(0,len(a[1])):\n",
        "  b=[a[0]]\n",
        "  for j in range(1,len(a)):\n",
        "    b.append(a[j][i])\n",
        "  m.append(b)\n",
        "print(m)\n",
        "\n",
        "\n"
      ],
      "metadata": {
        "colab": {
          "base_uri": "https://localhost:8080/"
        },
        "id": "fQbzuIkkhimJ",
        "outputId": "70978f26-58be-45b9-9477-4909c6c87c50"
      },
      "execution_count": null,
      "outputs": [
        {
          "output_type": "stream",
          "name": "stdout",
          "text": [
            "[['Tutor Joes', 'Software', 'Solution'], ['Tutor Joes', 'Computer', 'Education'], ['Tutor Joes', 'botle', 'pen']]\n"
          ]
        }
      ]
    },
    {
      "cell_type": "code",
      "source": [
        "'''\n",
        "39. Write a Python program to get all unique combinations of two Lists\n",
        "\n",
        "Sample Output\n",
        "\n",
        "['A','B','C']\n",
        "\n",
        "[1,2,3]\n",
        "\n",
        "[ [('A', 1), ('B', 2), ('C', 3)], [('A', 1), ('C', 2), ('B', 3)], [('B', 1), ('A', 2), ('C', 3)], [('B', 1), ('C', 2), ('A', 3)], [('C', 1), ('A', 2), ('B', 3)], [('C', 1), ('B', 2), ('A', 3)] ]\n",
        "'''\n",
        "a = [1,2,3]\n",
        "\n",
        "digits = ['A','B','C']\n",
        "\n",
        "# This will store all the combinations\n",
        "combinations = []\n",
        "\n",
        "# Nested loops to go through each digit\n",
        "for i in digits:\n",
        "    for j in digits:\n",
        "        for k in digits:\n",
        "            # Only add unique combinations\n",
        "            if i != j and j != k and i != k:\n",
        "                combinations.append([(i,1), (j,2), (k,3)])\n",
        "\n",
        "\n",
        "print(combinations)\n",
        "\n"
      ],
      "metadata": {
        "colab": {
          "base_uri": "https://localhost:8080/"
        },
        "id": "sxlJQRS50ADF",
        "outputId": "21d7646e-049e-4b18-e60d-7701c022239d"
      },
      "execution_count": null,
      "outputs": [
        {
          "output_type": "stream",
          "name": "stdout",
          "text": [
            "[[('A', 1), ('B', 2), ('C', 3)], [('A', 1), ('C', 2), ('B', 3)], [('B', 1), ('A', 2), ('C', 3)], [('B', 1), ('C', 2), ('A', 3)], [('C', 1), ('A', 2), ('B', 3)], [('C', 1), ('B', 2), ('A', 3)]]\n"
          ]
        }
      ]
    },
    {
      "cell_type": "code",
      "source": [
        "l=['Tutor Joes', ['Software', 'Computer'], ['Solution', 'Education']]\n",
        "type(l[0])"
      ],
      "metadata": {
        "id": "_bhLEeBOFoPC",
        "outputId": "63c00763-a4b9-4f0b-aefd-fa75bcb6d94a",
        "colab": {
          "base_uri": "https://localhost:8080/"
        }
      },
      "execution_count": null,
      "outputs": [
        {
          "output_type": "execute_result",
          "data": {
            "text/plain": [
              "str"
            ]
          },
          "metadata": {},
          "execution_count": 7
        }
      ]
    },
    {
      "cell_type": "code",
      "source": [
        "'''\n",
        "40. Write a Python program to remove all the occurrences of an element from a list\n",
        "\n",
        "Sample Output\n",
        "\n",
        "[1, 3, 4, 6, 5, 1]\n",
        "\n",
        "[3, 4, 6, 5]\n",
        "'''\n",
        "a = [1, 3, 4, 6, 5, 1]\n",
        "value_to_remove = 1\n",
        "new = []\n",
        "for i in a:\n",
        "  if i != value_to_remove:\n",
        "    new.append(i)\n",
        "print (new)"
      ],
      "metadata": {
        "colab": {
          "base_uri": "https://localhost:8080/"
        },
        "id": "QbwJ_gnx5wDW",
        "outputId": "d7b60e4f-d4ae-4ee5-8074-e5e7cf9b81f4"
      },
      "execution_count": null,
      "outputs": [
        {
          "output_type": "stream",
          "name": "stdout",
          "text": [
            "[3, 4, 6, 5]\n"
          ]
        }
      ]
    },
    {
      "cell_type": "code",
      "source": [
        "'''\n",
        "41. Write a Python Program to Remove Consecutive K element records\n",
        "\n",
        "Sample Output\n",
        "\n",
        "[ ('A', 'B', 'C', 'D'), ('B', 'C', 'C', 'I'), ('H', 'D', 'B', 'C'), ('C', 'C', 'G', 'F') ]\n",
        "\n",
        "[ ('A', 'B', 'C', 'D'), ('H', 'D', 'B', 'C') ]\n",
        "\n",
        "'''\n",
        "#Method 1\n",
        "a = [ ('A', 'B', 'C', 'D'), ('B', 'C', 'C', 'I'), ('H', 'D', 'B', 'C'), ('C', 'C', 'G', 'F') ]\n",
        "b = []\n",
        "for i in a:\n",
        "  if len(i) == len(set(i)):\n",
        "    b.append(i)\n",
        "print(b)\n",
        "\n",
        "#Method 2\n",
        "a = [ ('A', 'B', 'C', 'D'), ('B', 'C', 'C', 'I'), ('H', 'D', 'B', 'C'), ('C', 'C', 'G', 'F') ]\n",
        "\n",
        "for i in a:\n",
        "    for j in range(len(i)-1):\n",
        "        # If we find two items next to each other that are the same\n",
        "        if i[j] == i[j+1]:\n",
        "            a.remove(i)\n",
        "            break  # No need to check more\n",
        "print(a)"
      ],
      "metadata": {
        "colab": {
          "base_uri": "https://localhost:8080/"
        },
        "id": "EVVqwlSD66gt",
        "outputId": "ea800cc0-1ad4-4e47-fe56-94e5604d9765"
      },
      "execution_count": null,
      "outputs": [
        {
          "output_type": "stream",
          "name": "stdout",
          "text": [
            "[('A', 'B', 'C', 'D'), ('H', 'D', 'B', 'C')]\n",
            "[('A', 'B', 'C', 'D'), ('H', 'D', 'B', 'C')]\n"
          ]
        }
      ]
    },
    {
      "cell_type": "code",
      "source": [
        "'''\n",
        "42. Write a Python Program to Replace index elements with elements in Other List\n",
        "\n",
        "Sample Output\n",
        "\n",
        "['Tutor Joes', 'Computer', 'Education']\n",
        "\n",
        "[2, 1, 0, 1, 0, 2, 2, 0, 1, 0, 1, 2]\n",
        "\n",
        "['Education', 'Computer', 'Tutor Joes', 'Computer', 'Tutor Joes', 'Education', 'Education', 'Tutor Joes', 'Computer', 'Tutor Joes', 'Computer', 'Education']\n",
        "'''\n",
        "a = ['Tutor Joes', 'Computer', 'Education']\n",
        "b = [2, 1, 0, 1, 0, 2, 2, 0, 1, 0, 1, 2]\n",
        "x = []\n",
        "for i in b:\n",
        "  x.append(a[i])\n",
        "print(x)"
      ],
      "metadata": {
        "colab": {
          "base_uri": "https://localhost:8080/"
        },
        "id": "F5C1vp41XAIo",
        "outputId": "5d4b0cb4-8806-463d-be0b-97a6c9a537ea"
      },
      "execution_count": null,
      "outputs": [
        {
          "output_type": "stream",
          "name": "stdout",
          "text": [
            "['Education', 'Computer', 'Tutor Joes', 'Computer', 'Tutor Joes', 'Education', 'Education', 'Tutor Joes', 'Computer', 'Tutor Joes', 'Computer', 'Education']\n"
          ]
        }
      ]
    },
    {
      "cell_type": "code",
      "source": [
        "'''\n",
        "43. Write a Python Program to Retain records with N occurrences of K\n",
        "\n",
        "Sample Output\n",
        "\n",
        "[ (4, 5, 6, 5, 4), (4, 5, 3), (5, 5, 2), (3, 4, 9) ]\n",
        "\n",
        "K = 5\n",
        "\n",
        "N = 2\n",
        "\n",
        "[ (4, 5, 6, 5, 4), (5, 5, 2) ]\n",
        "'''\n",
        "a = [ (4, 5, 6, 5, 4), (4, 5, 3), (5, 5, 2), (3, 4, 9) ]\n",
        "K = 5\n",
        "N = 2\n",
        "new = []\n",
        "for i in a:\n",
        "  if i.count(K) == N:\n",
        "    new.append(i)\n",
        "print(new)\n"
      ],
      "metadata": {
        "colab": {
          "base_uri": "https://localhost:8080/"
        },
        "id": "G3PdN0QhVXQK",
        "outputId": "767071d4-e576-452a-8b92-be5532d632da"
      },
      "execution_count": null,
      "outputs": [
        {
          "output_type": "stream",
          "name": "stdout",
          "text": [
            "[(4, 5, 6, 5, 4), (5, 5, 2)]\n"
          ]
        }
      ]
    },
    {
      "cell_type": "code",
      "source": [
        "'''\n",
        "44. Write a Python Program to Swap elements in String list\n",
        "\n",
        "['Tutor', 'joes', 'Computer', 'Education']\n",
        "\n",
        "Sample Output\n",
        "['Tutor', \"Joe's\", 'Software', 'Solutions']\n",
        "'''\n",
        "a = ['Tutor', 'joes', 'Computer', 'Education']\n",
        "a[1] = \"Joe's\"\n",
        "a[2] = \"Software\"\n",
        "a[3] = \"Education\"\n",
        "print (a)"
      ],
      "metadata": {
        "colab": {
          "base_uri": "https://localhost:8080/"
        },
        "id": "bvofeuhVerbG",
        "outputId": "1e74dcbd-de74-4aeb-d118-71e7235dd3ac"
      },
      "execution_count": null,
      "outputs": [
        {
          "output_type": "stream",
          "name": "stdout",
          "text": [
            "['Tutor', \"Joe's\", 'Software', 'Education']\n"
          ]
        }
      ]
    },
    {
      "cell_type": "code",
      "source": [
        "'''\n",
        "45. Write a Python program to reverse All Strings in String List\n",
        "\n",
        "Sample Output\n",
        "\n",
        "Original list = ['Tutor', 'joes', 'Computer', 'Education']\n",
        "\n",
        "Reversed list = ['rotuT', 'seoj', 'retupmoC', 'noitacudE']\n",
        "\n",
        "Reversed list = ['Education', 'Computer', 'joes', 'Tutor']\n",
        "'''\n",
        "Original_list = ['Tutor', 'joes', 'Computer', 'Education']\n",
        "Reversed_list1 = []\n",
        "Reversed_list2 = Original_list[::-1]\n",
        "for i in Original_list:\n",
        "    Reversed_list1.append(i[::-1])\n",
        "print(Reversed_list1)\n",
        "print(Reversed_list2)\n",
        "\n",
        "\n"
      ],
      "metadata": {
        "colab": {
          "base_uri": "https://localhost:8080/"
        },
        "id": "QPq8v9Bztlrt",
        "outputId": "dfd952fb-9f52-4d50-b5fe-6847684471d8"
      },
      "execution_count": null,
      "outputs": [
        {
          "output_type": "stream",
          "name": "stdout",
          "text": [
            "['rotuT', 'seoj', 'retupmoC', 'noitacudE']\n",
            "['Education', 'Computer', 'joes', 'Tutor']\n"
          ]
        }
      ]
    },
    {
      "cell_type": "code",
      "source": [
        "'''\n",
        "46. Write a Python program to find the character position of Kth word from a list of strings\n",
        "\n",
        "['Tutor', 'joes', 'Computer', 'Education']\n",
        "\n",
        "K = 20\n",
        "\n",
        "Sample Output\n",
        "\n",
        "Index of character at Kth position word : 3\n",
        "'''\n",
        "words = ['Tutor', 'joes', 'Computer', 'Education']\n",
        "K = 20\n",
        "\n",
        "# Loop through each word\n",
        "for i in words:\n",
        "    # If the word's length is less than or equal to K\n",
        "    if len(i) < K:\n",
        "        # Reduce K by the length of the word\n",
        "        K -= len(i)\n",
        "    else:\n",
        "        # Print the character position if K is less than word's length\n",
        "        print(\"Index of character at Kth position word:\", K)\n",
        "        break\n"
      ],
      "metadata": {
        "colab": {
          "base_uri": "https://localhost:8080/"
        },
        "id": "ixL0WXYQwVwK",
        "outputId": "e83b245b-d108-45c8-8b31-13c69af64907"
      },
      "execution_count": null,
      "outputs": [
        {
          "output_type": "stream",
          "name": "stdout",
          "text": [
            "Index of character at Kth position word: 3\n"
          ]
        }
      ]
    },
    {
      "cell_type": "code",
      "source": [
        "'''\n",
        "47. Write a Python Program to Prefix frequency in string List\n",
        "\n",
        "Sample Output\n",
        "\n",
        "['TjC', 'TjCpp', 'TjPython', 'Java']\n",
        "\n",
        "Prefix = 'Tj'\n",
        "\n",
        "Strings count with matching frequency : 3\n",
        "'''\n",
        "a = ['TjC', 'TjCpp', 'TjPython', 'Java']\n",
        "prefix = 'Tj'\n",
        "count = 0\n",
        "for i in a:\n",
        "  if i[0:2] == prefix:\n",
        "    count +=1\n",
        "print (count)"
      ],
      "metadata": {
        "colab": {
          "base_uri": "https://localhost:8080/"
        },
        "id": "-OnswRx64Tqt",
        "outputId": "a32f0037-dccb-48c7-dde7-e1e342dc7e4a"
      },
      "execution_count": null,
      "outputs": [
        {
          "output_type": "stream",
          "name": "stdout",
          "text": [
            "3\n"
          ]
        }
      ]
    },
    {
      "cell_type": "code",
      "source": [
        "'''\n",
        "48. Write a Python Program to Split Strings on Prefix Occurrence\n",
        "\n",
        "Sample Output\n",
        "\n",
        "['TjC', 'TjCpp', 'TjPython', 'Java', 'tj']\n",
        "\n",
        "Prefix = 'Tj'\n",
        "\n",
        "[ ['TjC'], ['TjCpp'], ['TjPython', 'Java', 'tj'] ]\n",
        "'''\n",
        "a = ['TjC', 'TjCpp', 'TjPython', 'Java', 'tj']\n",
        "prefix = 'Tj'\n",
        "\n",
        "final_list = []\n",
        "current_list = []\n",
        "\n",
        "for i in a:\n",
        "  if i.startswith(prefix):\n",
        "    if current_list:\n",
        "      final_list.append(current_list)\n",
        "      current_list = []\n",
        "    current_list.append(i)\n",
        "  else:\n",
        "    current_list.append(i)\n",
        "strings = ['TjC', 'TjCpp', 'TjPython', 'Java', 'tj']\n",
        "prefix = 'Tj'\n",
        "\n",
        "if current_list:\n",
        "    final_list.append(current_list)\n",
        "\n",
        "print(final_list)"
      ],
      "metadata": {
        "colab": {
          "base_uri": "https://localhost:8080/"
        },
        "id": "qx--1uEOClBp",
        "outputId": "501028ae-296f-4b45-be08-78d30ed3b6ae"
      },
      "execution_count": null,
      "outputs": [
        {
          "output_type": "stream",
          "name": "stdout",
          "text": [
            "[['TjC'], ['TjCpp'], ['TjPython', 'Java', 'tj']]\n"
          ]
        }
      ]
    },
    {
      "cell_type": "code",
      "source": [
        "'''\n",
        "49. Write a Python program to Replace all Characters of a List Except the given character\n",
        "\n",
        "Sample Output\n",
        "\n",
        "['P', 'Y', 'T', 'H', 'O', 'N']\n",
        "\n",
        "['@', '@', 'T', '@', '@', '@']\n",
        "'''\n",
        "a = ['P', 'Y', 'T', 'H', 'O', 'N']\n",
        "b = []\n",
        "c = \"T\"\n",
        "for i in a:\n",
        "  if i != c:\n",
        "    b.append('@')\n",
        "  else:\n",
        "    b.append(c)\n",
        "print(b)"
      ],
      "metadata": {
        "id": "ZEltfC_rbDHf",
        "outputId": "e55e7233-e175-4edb-d38d-5dcb26375d5c",
        "colab": {
          "base_uri": "https://localhost:8080/"
        }
      },
      "execution_count": null,
      "outputs": [
        {
          "output_type": "stream",
          "name": "stdout",
          "text": [
            "['@', '@', 'T', '@', '@', '@']\n"
          ]
        }
      ]
    },
    {
      "cell_type": "code",
      "source": [
        "'''\n",
        "50. Write a Python Program to Add Space between Potential Words\n",
        "\n",
        "\n",
        "['TutorJoes', 'ComputerEducations']\n",
        "\n",
        "Sample Output\n",
        "\n",
        "[' Tutor Joes', ' Computer Educations']\n",
        "'''\n",
        "a = ['TutorJoes', 'ComputerEducations']\n",
        "new = []\n",
        "for word in a:\n",
        "  result = word[0]\n",
        "  for letter in word[1:]:\n",
        "    if letter.isupper():\n",
        "      result += ' '\n",
        "    result += letter\n",
        "  new.append(result)\n",
        "print(new)"
      ],
      "metadata": {
        "id": "rt76t9S_PlOf",
        "colab": {
          "base_uri": "https://localhost:8080/"
        },
        "outputId": "5dd6b02e-8d45-483d-f55a-43e1448d299b"
      },
      "execution_count": 2,
      "outputs": [
        {
          "output_type": "stream",
          "name": "stdout",
          "text": [
            "['Tutor Joes', 'Computer Educations']\n"
          ]
        }
      ]
    }
  ]
}